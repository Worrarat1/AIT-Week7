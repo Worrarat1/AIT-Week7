{
 "cells": [
  {
   "cell_type": "code",
   "execution_count": 1,
   "metadata": {},
   "outputs": [],
   "source": [
    "# import necessary modules\n",
    "import requests\n",
    "import matplotlib.pyplot as plt\n",
    "import cv2"
   ]
  },
  {
   "cell_type": "code",
   "execution_count": 12,
   "metadata": {},
   "outputs": [
    {
     "data": {
      "text/plain": [
       "[{'bbox': {'x1': 184, 'y1': 61, 'x2': 406, 'y2': 543},\n",
       "  'label': 'person',\n",
       "  'conf': 0.75}]"
      ]
     },
     "execution_count": 12,
     "metadata": {},
     "output_type": "execute_result"
    }
   ],
   "source": [
    "# image to detect object\n",
    "image_name = \"app/sample_image/1.png\"\n",
    "\n",
    "# prepar params\n",
    "image_data = {'image': ('1.png', open(image_name, 'rb'))}\n",
    "class_id = 0\n",
    "query_params = {\"conf\": 0.5}\n",
    "\n",
    "# call api\n",
    "detect = requests.post(\"http://localhost:5000/api/v1/detect/0\", files=image_data, params=query_params)\n",
    "detected_objects = detect.json()[\"object\"]\n",
    "detected_objects"
   ]
  },
  {
   "cell_type": "code",
   "execution_count": null,
   "metadata": {},
   "outputs": [
    {
     "ename": "SyntaxError",
     "evalue": "invalid syntax (2212683981.py, line 10)",
     "output_type": "error",
     "traceback": [
      "\u001b[0;36m  Cell \u001b[0;32mIn[14], line 10\u001b[0;36m\u001b[0m\n\u001b[0;31m    cv2.putText(image, f\"{obj[\"label\"]}\", (x1, y1-5), cv2.FONT_HERSHEY_SIMPLEX, 0.5, color, 1, cv2.LINE_AA)\u001b[0m\n\u001b[0m                               ^\u001b[0m\n\u001b[0;31mSyntaxError\u001b[0m\u001b[0;31m:\u001b[0m invalid syntax\n"
     ]
    }
   ],
   "source": [
    "# plot detected result on image\n",
    "image = cv2.imread(image_name)\n",
    "for obj in detected_objects:\n",
    "    x1 = obj[\"bbox\"][\"x1\"]\n",
    "    y1 = obj[\"bbox\"][\"y1\"]\n",
    "    x2 = obj[\"bbox\"][\"x2\"]\n",
    "    y2 = obj[\"bbox\"][\"y2\"]\n",
    "    color = (0, 255, 0) # GREEN\n",
    "    cv2.rectangle(image, (x1, y1), (x2, y2), color, 2)\n",
    "    cv2.putText(image, f\"{obj['label']}\", (x1, y1-5), cv2.FONT_HERSHEY_SIMPLEX, 0.5, color, 1, cv2.LINE_AA)\n",
    "plt.figure(figsize=(10, 10))\n",
    "plt.imshow(cv2.cvtColor(image, cv2.COLOR_BGR2RGB))"
   ]
  },
  {
   "cell_type": "code",
   "execution_count": null,
   "metadata": {},
   "outputs": [],
   "source": []
  }
 ],
 "metadata": {
  "kernelspec": {
   "display_name": "Python 3",
   "language": "python",
   "name": "python3"
  },
  "language_info": {
   "codemirror_mode": {
    "name": "ipython",
    "version": 3
   },
   "file_extension": ".py",
   "mimetype": "text/x-python",
   "name": "python",
   "nbconvert_exporter": "python",
   "pygments_lexer": "ipython3",
   "version": "3.8.10"
  }
 },
 "nbformat": 4,
 "nbformat_minor": 2
}
